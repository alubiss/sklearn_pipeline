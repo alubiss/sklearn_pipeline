{
 "cells": [
  {
   "cell_type": "code",
   "execution_count": null,
   "id": "f3af730f-2bb3-4a13-95cc-2e16046f5c62",
   "metadata": {},
   "outputs": [],
   "source": [
    "%load_ext autoreload\n",
    "%autoreload 2"
   ]
  },
  {
   "cell_type": "code",
   "execution_count": null,
   "id": "550b0f77-ecc9-42bd-a797-aa6e7b79beb5",
   "metadata": {},
   "outputs": [],
   "source": [
    "import pandas as pd\n",
    "import numpy as np\n",
    "import seaborn as sns\n",
    "import matplotlib.pyplot as plt\n",
    "\n",
    "sns.set()\n",
    "pd.set_option(\"display.max_columns\", None)"
   ]
  },
  {
   "cell_type": "code",
   "execution_count": null,
   "id": "2cf7cbe8-a7c0-4604-b2a1-63aa3faae2c4",
   "metadata": {},
   "outputs": [],
   "source": [
    "target = 'cliked'"
   ]
  },
  {
   "cell_type": "code",
   "execution_count": null,
   "id": "90daa78a-6f15-4d04-ae1f-94c5470b3a70",
   "metadata": {},
   "outputs": [],
   "source": [
    "train = pd.read_pickle(\"data/train.pkl\")\n",
    "#test = pd.read_pickle(\"data/test.pkl\")"
   ]
  },
  {
   "cell_type": "code",
   "execution_count": null,
   "id": "424b836b-1725-4534-969b-b52350c5393b",
   "metadata": {},
   "outputs": [],
   "source": [
    "import src.feature_engineering as fe"
   ]
  },
  {
   "cell_type": "code",
   "execution_count": null,
   "id": "bb71862d-5a7c-49b6-a186-e5d4fc2b13d0",
   "metadata": {},
   "outputs": [],
   "source": [
    "to_drop = ['offer_id', 'context.booking.param10', 'context.booking.param11','context.booking.param12', 'context.booking.param13' , 'context.booking.param14', 'context.booking.param15', 'context.booking.param16', 'id', \n",
    "          'schema', 'context.param3', 'context.leg.param12', 'context.leg.param13', 'context.leg.param14', 'context.leg.param15']"
   ]
  },
  {
   "cell_type": "code",
   "execution_count": null,
   "id": "6d934e68-32a7-495f-8d59-e17e5bb804f5",
   "metadata": {},
   "outputs": [],
   "source": [
    "pipeline = [\n",
    "    fe.DatetimeEncoder()\n",
    "]"
   ]
  },
  {
   "cell_type": "code",
   "execution_count": null,
   "id": "013a8eab-28af-4f15-9efd-f8512b1d69e3",
   "metadata": {},
   "outputs": [],
   "source": [
    "df_transformed = train.copy()\n",
    "df_transformed = df_transformed.drop(columns=to_drop)\n",
    "for encoder in pipeline:\n",
    "    df_transformed = encoder.transform(df_transformed)"
   ]
  },
  {
   "cell_type": "code",
   "execution_count": null,
   "id": "c7556280-4357-4d1c-82ab-51155c551b38",
   "metadata": {},
   "outputs": [],
   "source": [
    "df_transformed.dtypes.value_counts()"
   ]
  },
  {
   "cell_type": "markdown",
   "id": "248637df-f431-44af-bccd-a0e535115a7d",
   "metadata": {},
   "source": [
    "# Pipeline"
   ]
  },
  {
   "cell_type": "code",
   "execution_count": null,
   "id": "ab9a2948-88ad-471a-a105-6ef3b99d2df2",
   "metadata": {},
   "outputs": [],
   "source": [
    "from sklearn.base import BaseEstimator, TransformerMixin"
   ]
  },
  {
   "cell_type": "code",
   "execution_count": null,
   "id": "128a9bfb-f668-4ced-8282-2b517b4cfa85",
   "metadata": {},
   "outputs": [],
   "source": [
    "class ValEncoder(BaseEstimator, TransformerMixin):\n",
    "    def transform(self, X):\n",
    "        X_tr = X.copy()\n",
    "        col = 'context.booking.param5'\n",
    "        X_tr[col] = X_tr[col].clip(0,10)\n",
    "        return X_tr"
   ]
  },
  {
   "cell_type": "code",
   "execution_count": null,
   "id": "228602e1-0058-4953-ad8f-f44aa3e03c4d",
   "metadata": {},
   "outputs": [],
   "source": [
    "ValEncoder().transform(df_transformed)['context.booking.param5'].describe()"
   ]
  },
  {
   "cell_type": "code",
   "execution_count": null,
   "id": "38b07f81-6165-48ee-90f3-c5be5d237a8e",
   "metadata": {},
   "outputs": [],
   "source": [
    "class TrigonometricTransformer(BaseEstimator, TransformerMixin):\n",
    "    def transform(self, X):\n",
    "        X_tr = X.copy()\n",
    "        month = 'data_month'\n",
    "        day = 'data_day'\n",
    "        \n",
    "        X_tr[f\"{month}_SIN\"] = X_tr[month].apply(lambda x: np.sin(x * 2 * np.pi /12))\n",
    "        X_tr[f\"{month}_COS\"] = X_tr[month].apply(lambda x: np.cos(x * 2 * np.pi /12))\n",
    "        \n",
    "        X_tr[f\"{day}_SIN\"] = X_tr[day].apply(lambda x: np.sin(x * 2 * np.pi /31))\n",
    "        X_tr[f\"{day}_COS\"] = X_tr[day].apply(lambda x: np.cos(x * 2 * np.pi /31))\n",
    "        \n",
    "        return X_tr    "
   ]
  },
  {
   "cell_type": "code",
   "execution_count": null,
   "id": "96b51711-d64a-463a-85a4-41672a04c191",
   "metadata": {},
   "outputs": [],
   "source": [
    "TrigonometricTransformer().transform(df_transformed)[['data_month_SIN', 'data_day_SIN']].head()"
   ]
  },
  {
   "cell_type": "code",
   "execution_count": null,
   "id": "d1e3c99d-5a07-45a9-be62-07f9be916cfb",
   "metadata": {},
   "outputs": [],
   "source": [
    "class Quantilizer(BaseEstimator, TransformerMixin):\n",
    "    def __init__(self, input_cols:list, bins: int = 100):\n",
    "        self.input_cols = input_cols if isinstance(input_cols, list) else [input_cols]\n",
    "        self.bins = bins\n",
    "        self._bin_edges = dict()\n",
    "        \n",
    "    def fit(self, X, y=None):\n",
    "        for col in self.input_cols:\n",
    "            quantiles = np.arange(0, 1.00001, step=1/self.bins)\n",
    "            self._bin_edges[col] = [X[col].quantile(q) for q in quantiles]\n",
    "            self._bin_edges[col][0] = -np.inf\n",
    "            self._bin_edges[col][-1] = np.inf\n",
    "        return self\n",
    "    \n",
    "    def transform(self, X):\n",
    "        X_tr = X.copy()\n",
    "        for col in self.input_cols:\n",
    "            X_tr[col] = pd.cut(X_tr[col], self._bin_edges[col], duplicates=\"drop\").cat.codes\n",
    "            X_tr[col] = np.where(X[col].isna(), np.nan, X_tr[col])\n",
    "        return X_tr"
   ]
  },
  {
   "cell_type": "code",
   "execution_count": null,
   "id": "47a9e93e-39e1-400d-8b9c-426695b27214",
   "metadata": {},
   "outputs": [],
   "source": [
    "quantilizer = Quantilizer(['context.booking.param5'], bins = 5)\n",
    "\n",
    "t = quantilizer.fit_transform(df_transformed)['context.booking.param5']"
   ]
  },
  {
   "cell_type": "code",
   "execution_count": null,
   "id": "2ba62d22-7e70-4d95-8dc6-d93df401416b",
   "metadata": {},
   "outputs": [],
   "source": [
    "df_transformed.groupby(t)[target].mean().plot();"
   ]
  },
  {
   "cell_type": "code",
   "execution_count": null,
   "id": "d42e0886-4d62-40a7-b620-ee0ea523c3d8",
   "metadata": {},
   "outputs": [],
   "source": []
  }
 ],
 "metadata": {
  "kernelspec": {
   "display_name": "anaconda-panel-2023.05-py310",
   "language": "python",
   "name": "conda-env-anaconda-panel-2023.05-py310-py"
  },
  "language_info": {
   "codemirror_mode": {
    "name": "ipython",
    "version": 3
   },
   "file_extension": ".py",
   "mimetype": "text/x-python",
   "name": "python",
   "nbconvert_exporter": "python",
   "pygments_lexer": "ipython3",
   "version": "3.11.5"
  }
 },
 "nbformat": 4,
 "nbformat_minor": 5
}
