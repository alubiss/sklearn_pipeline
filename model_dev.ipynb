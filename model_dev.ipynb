{
 "cells": [
  {
   "cell_type": "code",
   "execution_count": null,
   "id": "8e4ee762-b355-47c9-801b-d1cffb899b5e",
   "metadata": {},
   "outputs": [],
   "source": [
    "%load_ext autoreload\n",
    "%autoreload 2"
   ]
  },
  {
   "cell_type": "code",
   "execution_count": null,
   "id": "9def12c9-0951-4746-bf58-a90d5136a05b",
   "metadata": {},
   "outputs": [],
   "source": [
    "import pandas as pd\n",
    "import numpy as np\n",
    "import seaborn as sns\n",
    "import matplotlib.pyplot as plt\n",
    "from xgboost import XGBClassifier\n",
    "from sklearn.model_selection import train_test_split\n",
    "from sklearn.metrics import recall_score, f1_score, accuracy_score, precision_score\n",
    "\n",
    "sns.set()\n",
    "pd.set_option(\"display.max_columns\", None)"
   ]
  },
  {
   "cell_type": "code",
   "execution_count": null,
   "id": "913df82f-7a83-4d3a-84b0-0ec4022d4a41",
   "metadata": {},
   "outputs": [],
   "source": [
    "target = 'cliked'"
   ]
  },
  {
   "cell_type": "code",
   "execution_count": null,
   "id": "25a27f03-4609-4be8-85ef-e3d01fff1929",
   "metadata": {},
   "outputs": [],
   "source": [
    "# with open('data/context_history.json', 'r') as file:\n",
    "#     parsed_json = json.load(file)\n",
    "# df_context = pd.json_normalize(parsed_json)"
   ]
  },
  {
   "cell_type": "code",
   "execution_count": null,
   "id": "1fcf1c8a-a7a6-4b76-ada7-e656b5171065",
   "metadata": {},
   "outputs": [],
   "source": [
    "# train, test = train_test_split(df_context, test_size = 0.3, random_state = 456)\n",
    "# test['schema'] = None\n",
    "# test['top_1_product'] = None\n",
    "# test['top_2_product'] = None\n",
    "# test['top_3_product'] = None\n",
    "# test['top_4_product'] = None\n",
    "# test['top_5_product'] = None\n",
    "# test['is_banner'] = None\n",
    "# test['products_offered'] = None\n",
    "# test['cta_number'] = None\n",
    "# test['id'] = None"
   ]
  },
  {
   "cell_type": "code",
   "execution_count": null,
   "id": "d913b347-a675-4fe2-8578-62eeb0dc3564",
   "metadata": {},
   "outputs": [],
   "source": [
    "# train.to_pickle(\"data/train.pkl\")\n",
    "# test.to_pickle(\"data/test.pkl\")"
   ]
  },
  {
   "cell_type": "code",
   "execution_count": null,
   "id": "5ced9023-7413-4fe5-8023-d87520bb0918",
   "metadata": {},
   "outputs": [],
   "source": [
    "train = pd.read_pickle(\"data/train.pkl\")\n",
    "test = pd.read_pickle(\"data/test.pkl\")"
   ]
  },
  {
   "cell_type": "code",
   "execution_count": null,
   "id": "5a49f76e-fa9f-4e18-babe-19a7e971d001",
   "metadata": {},
   "outputs": [],
   "source": [
    "import json\n",
    "import pandas as pd\n",
    "with open('data/offer_features.json', 'r') as file:\n",
    "    parsed_json = json.load(file)\n",
    "df_offer = pd.json_normalize(parsed_json, 'features', ['id'])"
   ]
  },
  {
   "cell_type": "code",
   "execution_count": null,
   "id": "7b13343d-e66a-4419-8c5a-bac93c04b12d",
   "metadata": {},
   "outputs": [],
   "source": [
    "train = pd.merge(train, df_offer, left_on='offer_id', right_on='id', how='left')"
   ]
  },
  {
   "cell_type": "code",
   "execution_count": null,
   "id": "857a4d3c-e941-47ca-a1a9-4228e6d278a7",
   "metadata": {},
   "outputs": [],
   "source": [
    "from sklearn.pipeline import make_pipeline, Pipeline\n",
    "from sklearn.impute import SimpleImputer\n",
    "\n",
    "from src.pipeline.utils import DataFrameTransformer, ColumnDropper\n",
    "from src.pipeline.preprocessing import MapOfferValues, BannerEncoder, ColTypeFromater, DataTranform, ValEncoder, TrigonometricTransformer"
   ]
  },
  {
   "cell_type": "markdown",
   "id": "9b3b588f-f6c1-4068-9cf4-d53b39355eee",
   "metadata": {},
   "source": [
    "Outliers na zbiorze treningowym"
   ]
  },
  {
   "cell_type": "code",
   "execution_count": null,
   "id": "fef5b917-0e4a-4a19-aec5-4db477d6007c",
   "metadata": {},
   "outputs": [],
   "source": [
    "train = train[train['context.booking.param5'] <= 2]\n",
    "train = train[train['context.booking.param6'] <= 8]\n",
    "train = train[train['context.booking.param8'] <= 8]"
   ]
  },
  {
   "cell_type": "markdown",
   "id": "f76cc229-5a5f-4a08-8be5-a31cadadc5d4",
   "metadata": {},
   "source": [
    "Map offer info"
   ]
  },
  {
   "cell_type": "code",
   "execution_count": null,
   "id": "f36ea0c2-d681-4cd3-91d5-6ac9976e1503",
   "metadata": {},
   "outputs": [],
   "source": [
    "map_values = MapOfferValues()"
   ]
  },
  {
   "cell_type": "code",
   "execution_count": null,
   "id": "f6a754d9-54d6-4a58-834b-803eddc7ea5c",
   "metadata": {},
   "outputs": [],
   "source": [
    "mapping_pipeline = Pipeline([\n",
    "    (\"map_offer_values\", map_values),\n",
    "])"
   ]
  },
  {
   "cell_type": "markdown",
   "id": "8770606e-68ca-4af3-9da5-a27aa9a7b0d2",
   "metadata": {},
   "source": [
    "Imputation"
   ]
  },
  {
   "cell_type": "code",
   "execution_count": null,
   "id": "dc751a00-a849-4e18-8818-1548609cf0c7",
   "metadata": {},
   "outputs": [],
   "source": [
    "# impute_mode = ['context.booking.param8']\n",
    "# impute_binary = ['is_banner']\n",
    "# impute_median = ['context.leg.param3']\n",
    "# mode_imputer = DataFrameTransformer(SimpleImputer(strategy='most_frequent'), impute_mode)\n",
    "# zero_imputer = DataFrameTransformer(SimpleImputer(strategy='constant', fill_value=0), impute_binary)\n",
    "# median_imputer = DataFrameTransformer(SimpleImputer(strategy='median'), impute_median)"
   ]
  },
  {
   "cell_type": "code",
   "execution_count": null,
   "id": "4853c486-b6d2-458f-a6c5-cef3e8767468",
   "metadata": {},
   "outputs": [],
   "source": [
    "# imputation_pipeline = Pipeline([\n",
    "#     (\"mode_imputer\", mode_imputer),\n",
    "#     (\"zero_imputer\", zero_imputer),\n",
    "#     (\"median_imputer\", median_imputer),\n",
    "# ])\n",
    "\n",
    "# nie ma braków danych"
   ]
  },
  {
   "cell_type": "markdown",
   "id": "312eb430-84a7-4b3d-9979-0fc4bdfedc34",
   "metadata": {},
   "source": [
    "Preprocessing"
   ]
  },
  {
   "cell_type": "code",
   "execution_count": null,
   "id": "4bd28eb4-d821-4091-88b1-463766eba458",
   "metadata": {},
   "outputs": [],
   "source": [
    "is_banner_encoder = BannerEncoder()\n",
    "date_encoder = DataTranform()\n",
    "date_encoder_tryg = TrigonometricTransformer()\n",
    "value_encoder = ValEncoder()\n",
    "type_formater = ColTypeFromater()"
   ]
  },
  {
   "cell_type": "code",
   "execution_count": null,
   "id": "91a7a9c8-fd0d-4084-a4ab-d59736dd2ce5",
   "metadata": {},
   "outputs": [],
   "source": [
    "preprocessing_pipeline = Pipeline([\n",
    "    (\"is_banner_encoder\", is_banner_encoder),\n",
    "    (\"date_encoder\", date_encoder),\n",
    "    (\"date_encoder_tryg\",date_encoder_tryg),\n",
    "    (\"value_encoder\", value_encoder),\n",
    "    (\"type_formater\", type_formater),\n",
    "])"
   ]
  },
  {
   "cell_type": "markdown",
   "id": "137f34aa-ff3e-4daf-83cf-4cf8253f3e2b",
   "metadata": {},
   "source": [
    "New Features"
   ]
  },
  {
   "cell_type": "code",
   "execution_count": null,
   "id": "e383967f-78b2-4890-83e0-5b9c676caf09",
   "metadata": {},
   "outputs": [],
   "source": [
    "from src.pipeline.preprocessing import ThreeMonthsAggregator, SixMonthsAggregator"
   ]
  },
  {
   "cell_type": "code",
   "execution_count": null,
   "id": "fd04208e-a6de-441b-84d6-3af2a653d145",
   "metadata": {},
   "outputs": [],
   "source": [
    "aggregator_3m = ThreeMonthsAggregator()\n",
    "aggregator_6m = SixMonthsAggregator()"
   ]
  },
  {
   "cell_type": "code",
   "execution_count": null,
   "id": "fb8c17d6-9b27-4a9a-8e14-6fe4af120844",
   "metadata": {},
   "outputs": [],
   "source": [
    "new_features_pipeline = Pipeline([\n",
    "    (\"aggregator_3m\", aggregator_3m),\n",
    "    (\"aggregator_6m\", aggregator_6m),\n",
    "])"
   ]
  },
  {
   "cell_type": "markdown",
   "id": "89a03b5e-4b9d-4f80-a596-423612b6dedd",
   "metadata": {},
   "source": [
    "Encodig"
   ]
  },
  {
   "cell_type": "code",
   "execution_count": null,
   "id": "38f2be65-1bdd-4629-b3b6-2c197a51d937",
   "metadata": {},
   "outputs": [],
   "source": [
    "from category_encoders import OneHotEncoder\n",
    "from sklearn.preprocessing import FunctionTransformer\n",
    "\n",
    "def convert_to_str(x):\n",
    "    return x.astype(str)"
   ]
  },
  {
   "cell_type": "code",
   "execution_count": null,
   "id": "6998e067-72a1-4abb-a2a4-d59240778c94",
   "metadata": {},
   "outputs": [],
   "source": [
    "encode_one_hot =['schema', 'top_1_product', 'top_2_product', 'top_3_product', 'top_4_product', 'top_5_product', \n",
    "                 'context.booking.param5', 'context.booking.param3', 'context.booking.param9',\n",
    "                 'context.booking.param10', 'context.booking.param12',\n",
    "                 'context.booking.param13', 'context.booking.param15',\n",
    "                 'context.leg.param8', 'context.leg.param10', 'offer_id'\n",
    "                \n",
    "                ]\n",
    "\n",
    "category_creator = DataFrameTransformer(FunctionTransformer(func=convert_to_str), encode_one_hot)\n",
    "one_hot_encoder = OneHotEncoder(cols=encode_one_hot)\n",
    "encoding_pipeline = Pipeline([\n",
    "      ('one_hot_encoder', one_hot_encoder),\n",
    "])"
   ]
  },
  {
   "cell_type": "markdown",
   "id": "208cf628-d427-44ad-9c3e-4fb6cc160bdc",
   "metadata": {},
   "source": [
    "Pipeline"
   ]
  },
  {
   "cell_type": "code",
   "execution_count": null,
   "id": "ec95c860-3a89-4cd4-ab2b-7b6a205df0c1",
   "metadata": {},
   "outputs": [],
   "source": [
    "to_drop = ['id','context.param2', \"request_dttm\", 'context.booking.param11', 'context.booking.param14', 'context.booking.param16', 'context.leg.param12', 'context.leg.param13', 'context.leg.param14', 'context.leg.param15', 'context.param3' ]\n",
    "# zmienna z jednym poziomem, tekstowe bez kategoryzacji, data"
   ]
  },
  {
   "cell_type": "code",
   "execution_count": null,
   "id": "464e460f-6c2d-41ab-9cb9-651809f95637",
   "metadata": {},
   "outputs": [],
   "source": [
    "pipeline = Pipeline([\n",
    "    (\"mapping_step\", mapping_pipeline),\n",
    "    (\"preprocessing_step\", preprocessing_pipeline),\n",
    "    (\"encoding_step\", encoding_pipeline),\n",
    "    (\"feature_engineering_step\", new_features_pipeline),\n",
    "    (\"drop_columns\", ColumnDropper(input_cols=to_drop)),\n",
    "])"
   ]
  },
  {
   "cell_type": "code",
   "execution_count": null,
   "id": "7ce2ea00-ecde-448f-8e35-e5020a4b4b0c",
   "metadata": {
    "tags": []
   },
   "outputs": [],
   "source": [
    "abt_train = pipeline.fit_transform(train)"
   ]
  },
  {
   "cell_type": "code",
   "execution_count": null,
   "id": "9b5ee1f8-9390-427b-bbd5-b8b886217059",
   "metadata": {},
   "outputs": [],
   "source": [
    "abt_train.columns.tolist()"
   ]
  },
  {
   "cell_type": "code",
   "execution_count": null,
   "id": "89b498a7-dfd7-4149-8cd5-448fb6b41b84",
   "metadata": {},
   "outputs": [],
   "source": [
    "abt_test = pipeline.transform(test)"
   ]
  },
  {
   "cell_type": "code",
   "execution_count": null,
   "id": "7f5ba0cd-fd4f-4911-97ea-2efb2e5463c0",
   "metadata": {},
   "outputs": [],
   "source": [
    "predictors = abt_test.columns.tolist()\n",
    "to_drop = [\"cliked\", 'id', \"offer_id\"]\n",
    "for element in to_drop:\n",
    "    while element in predictors:\n",
    "            predictors.remove(element)"
   ]
  },
  {
   "cell_type": "code",
   "execution_count": null,
   "id": "1b0f124f-1ed3-4002-8ce8-b7d79f09c668",
   "metadata": {},
   "outputs": [],
   "source": [
    "X_train = abt_train[predictors]\n",
    "X_test = abt_test[predictors]"
   ]
  },
  {
   "cell_type": "code",
   "execution_count": null,
   "id": "462e42dd-47b1-40c6-aeb1-f7e3b761546e",
   "metadata": {},
   "outputs": [],
   "source": [
    "y_train = abt_train[['cliked']]\n",
    "y_test = abt_test[['cliked']]"
   ]
  },
  {
   "cell_type": "code",
   "execution_count": null,
   "id": "397b6187-f1d6-45e4-aeeb-697d4ec62ee3",
   "metadata": {},
   "outputs": [],
   "source": [
    "from hyperopt import fmin, tpe, hp, Trials, space_eval\n",
    "from hyperopt.pyll import scope\n",
    "\n",
    "space = {\n",
    "    'n_estimators': scope.int(hp.quniform('n_estimators', 50, 200, q=50)),\n",
    "    'learning_rate': hp.loguniform('learning_rate', np.log(0.001), np.log(0.2)),\n",
    "    'max_depth': scope.int(hp.quniform('max_depth', 3, 10, q=1)),\n",
    "    'min_child_weight': hp.loguniform('min_child_weight', np.log(1e-5), np.log(0.2)),\n",
    "    'subsample': hp.uniform('subsample', 0.6, 0.8),\n",
    "    'colsample_bytree': hp.uniform('colsample_bytree', 0.6, 1.0),\n",
    "    'reg_alpha': hp.loguniform('reg_alpha', np.log(1e-9), np.log(1)),\n",
    "    'reg_lambda': hp.loguniform('reg_lambda', np.log(1e-9), np.log(1)),\n",
    "    'gamma': hp.loguniform('gamma', np.log(0.1), np.log(10)),\n",
    "    'booster': hp.choice('booster', ['gbtree', 'dart'])\n",
    "}"
   ]
  },
  {
   "cell_type": "markdown",
   "id": "960a3661-380a-434b-91af-80270ae639e7",
   "metadata": {},
   "source": [
    "optymalizacja hiperparametrow"
   ]
  },
  {
   "cell_type": "code",
   "execution_count": null,
   "id": "2732022e-f044-4a9a-959f-140cf6c90e77",
   "metadata": {},
   "outputs": [],
   "source": [
    "# from sklearn.model_selection import StratifiedKFold\n",
    "# from sklearn.metrics import f1_score, recall_score, precision_score, log_loss\n",
    "\n",
    "# def get_metrics(model, X, y):\n",
    "#     predictions = model.predict(X)\n",
    "#     f1 = f1_score(y, predictions)\n",
    "#     recall = recall_score(y, predictions)\n",
    "#     logloss = log_loss(y, model.predict_proba(X))\n",
    "    \n",
    "#     return {'f1': f1, 'recall': recall, 'logLoss': logloss, 'predictions': predictions}\n",
    "\n",
    "# metrics = []\n",
    "\n",
    "# def train_model(params, n_split = 5):\n",
    "#     scores = list()\n",
    "    \n",
    "#     cv= StratifiedKFold(n_splits= n_split, shuffle = True)\n",
    "    \n",
    "#     for train_idx, val_idx in cv.split(X_train, y_train):\n",
    "#         tr, y_tr = X_train.iloc[train_idx], y_train.iloc[train_idx][target]\n",
    "#         val, y_val = X_train.iloc[val_idx], y_train.iloc[val_idx][target]\n",
    "    \n",
    "#     model = XGBClassifier(use_label_encoder=False, eval_metric='logloss', tree_method='approx')\n",
    "#     model.set_params(**params)\n",
    "#     model.fit(tr, y_tr, verbose=False)\n",
    "    \n",
    "#     metrics.append(get_metrics(model, tr, y_tr))\n",
    "#     scores.append(get_metrics(model, val, y_val)['logLoss'])\n",
    "\n",
    "#     return np.average(scores)\n",
    "\n",
    "# trials = Trials()\n",
    "\n",
    "# best_params = fmin(\n",
    "#         fn=train_model,\n",
    "#         space=space,\n",
    "#         algo=tpe.suggest,\n",
    "#         max_evals=10,\n",
    "#         trials=trials\n",
    "#     )"
   ]
  },
  {
   "cell_type": "code",
   "execution_count": null,
   "id": "51d498ef-4e9a-4423-a03b-d22fad80e2a6",
   "metadata": {},
   "outputs": [],
   "source": [
    "#best_params"
   ]
  },
  {
   "cell_type": "code",
   "execution_count": null,
   "id": "17aedcfb-581f-4909-af45-07ae47afcdd1",
   "metadata": {},
   "outputs": [],
   "source": [
    "params = dict(\n",
    " colsample_bytree = 0.6786466169745081,\n",
    " gamma = 1.2366943011928748,\n",
    " learning_rate = 0.00805577148504449,\n",
    " max_depth = 6,\n",
    " min_child_weight = 0.0066123836862955945,\n",
    " n_estimators= 100,\n",
    " reg_alpha = 0.3118157899554353,\n",
    " reg_lambda = 0.15780057333621578,\n",
    " subsample = 0.6985172214982275)"
   ]
  },
  {
   "cell_type": "code",
   "execution_count": null,
   "id": "bb9dd71c-b1d9-4e19-be24-bebb745ac574",
   "metadata": {},
   "outputs": [],
   "source": [
    "model = XGBClassifier()\n",
    "model.set_params(**params)\n",
    "model.fit(X_train, y_train, verbose=False)"
   ]
  },
  {
   "cell_type": "code",
   "execution_count": null,
   "id": "c4487930-3ed2-4c72-a243-5e41016ce852",
   "metadata": {},
   "outputs": [],
   "source": [
    "predictions_test = model.predict(X_test)\n",
    "recall = recall_score(y_test, predictions_test)\n",
    "f1 = f1_score(y_test, predictions_test)\n",
    "accuracy = accuracy_score(y_test, predictions_test)\n",
    "precision = precision_score(y_test, predictions_test)\n",
    "\n",
    "print(f\"recall: {recall}, f1: {f1}, accuracy: {accuracy}, precision: {precision}\")"
   ]
  },
  {
   "cell_type": "code",
   "execution_count": null,
   "id": "a8602712-483d-4549-9664-ce99569f386d",
   "metadata": {},
   "outputs": [],
   "source": [
    "def get_probability(df, offert_id, model, pipeline):\n",
    "    _df = df.copy()\n",
    "    _df['id'] = offert_id\n",
    "    _df[['top_1_product', 'top_2_product', 'top_3_product', 'top_4_product', 'top_5_product']] = _df['id'].str.split('_').apply(lambda x: pd.Series(x[2:7]))\n",
    "    _df[['schema']] = _df['id'].str.split('_').apply(lambda x: pd.Series(x[1]))\n",
    "    X = pipeline.transform(_df.drop(columns=['id']))\n",
    "    prob = model.predict_proba(X)[:,1][0]\n",
    "    return prob"
   ]
  },
  {
   "cell_type": "markdown",
   "id": "0ffb13df-e1ce-483b-bb1a-664939205020",
   "metadata": {},
   "source": [
    "Results"
   ]
  },
  {
   "cell_type": "code",
   "execution_count": null,
   "id": "010d6c8e-1d7e-41b8-87ef-21ddc84872d5",
   "metadata": {},
   "outputs": [],
   "source": [
    "test_one = test[:1]"
   ]
  },
  {
   "cell_type": "code",
   "execution_count": null,
   "id": "d342f7bb-a258-4230-a904-b58a63d6eda3",
   "metadata": {},
   "outputs": [],
   "source": [
    "lista_ofert = ['OFFER_A_1_2_3_4_5','OFFER_A_2_1_3_4_5','OFFER_A_3_1_4_2_5','OFFER_A_4_1_2_3_5','OFFER_A_5_1_2_3_4','OFFER_A_5_2_4_1_3','OFFER_B_1_2_3_4_5','OFFER_B_2_1_3_4_5','OFFER_B_3_1_4_2_5','OFFER_B_4_1_2_3_5','OFFER_B_5_1_2_3_4','OFFER_B_5_2_4_1_3','OFFER_C_1_2_3_4_5','OFFER_C_2_1_3_4_5','OFFER_C_3_1_4_2_5','OFFER_C_4_1_2_3_5','OFFER_C_5_1_2_3_4','OFFER_C_5_2_4_1_3','OFFER_D_1_2_3_4_5','OFFER_D_2_1_3_4_5','OFFER_D_3_1_4_2_5','OFFER_D_4_1_2_3_5','OFFER_D_5_2_4_1_3','OFFER_E_1_2_3_4_5','OFFER_E_2_1_3_4_5','OFFER_E_3_1_4_2_5','OFFER_E_4_1_2_3_5','OFFER_E_5_1_2_3_4','OFFER_E_5_2_4_1_3']"
   ]
  },
  {
   "cell_type": "code",
   "execution_count": null,
   "id": "d12b225f-39fa-4c9e-8a9e-68654df24133",
   "metadata": {},
   "outputs": [],
   "source": [
    "def get_probabilities_for_offert_ids(df, offert_ids, model, pipeline, predictors):\n",
    "    result_list = []\n",
    "    for offert_id in offert_ids:\n",
    "        _df = df.copy()\n",
    "        _df['id'] = offert_id\n",
    "        _df[['top_1_product', 'top_2_product', 'top_3_product', 'top_4_product', 'top_5_product']] = _df['id'].str.split('_').apply(lambda x: pd.Series(x[2:7]))\n",
    "        _df[['schema']] = _df['id'].str.split('_').apply(lambda x: pd.Series(x[1]))\n",
    "        X = pipeline.transform(_df.drop(columns=['id']))\n",
    "        X = X[predictors]\n",
    "        prob = model.predict_proba(X)[:, 1][0]\n",
    "        result_dict = {'id': offert_id, 'probability': np.float64(prob)}\n",
    "        result_list.append(result_dict)\n",
    "    sorted_results = sorted(result_list, key=lambda x: x['probability'], reverse=True)[:3]\n",
    "    result_dict = {\"ranking\": sorted_results}\n",
    "    return result_dict"
   ]
  },
  {
   "cell_type": "markdown",
   "id": "824339de-2388-406f-a337-3112d1d9640c",
   "metadata": {},
   "source": [
    "Print best offers"
   ]
  },
  {
   "cell_type": "code",
   "execution_count": null,
   "id": "9a512f32-0010-4959-9dff-e4d82a76f853",
   "metadata": {},
   "outputs": [],
   "source": [
    "get_probabilities_for_offert_ids(test_one, lista_ofert, model, pipeline, predictors)"
   ]
  },
  {
   "cell_type": "code",
   "execution_count": null,
   "id": "64a478b1-2933-4ba6-8f25-9c3c67b65628",
   "metadata": {},
   "outputs": [],
   "source": [
    "json.dumps(get_probabilities_for_offert_ids(test_one, lista_ofert, model, pipeline, predictors), indent=2)"
   ]
  },
  {
   "cell_type": "code",
   "execution_count": null,
   "id": "dd8e1e27-82bd-4723-baad-1bfc0043515f",
   "metadata": {},
   "outputs": [],
   "source": []
  }
 ],
 "metadata": {
  "kernelspec": {
   "display_name": "anaconda-panel-2023.05-py310",
   "language": "python",
   "name": "conda-env-anaconda-panel-2023.05-py310-py"
  },
  "language_info": {
   "codemirror_mode": {
    "name": "ipython",
    "version": 3
   },
   "file_extension": ".py",
   "mimetype": "text/x-python",
   "name": "python",
   "nbconvert_exporter": "python",
   "pygments_lexer": "ipython3",
   "version": "3.11.5"
  }
 },
 "nbformat": 4,
 "nbformat_minor": 5
}
