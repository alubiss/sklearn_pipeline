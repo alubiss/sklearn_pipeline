{
 "cells": [
  {
   "cell_type": "code",
   "execution_count": null,
   "id": "1aaafdbe-aa6b-4030-8e26-adb40c43264a",
   "metadata": {},
   "outputs": [],
   "source": [
    "import numpy as np\n",
    "import pandas as pd\n",
    "import matplotlib.pyplot as plt\n",
    "import seaborn as sns\n",
    "from datetime import datetime\n",
    "from collections import defaultdict\n",
    "from sklearn.model_selection import train_test_split\n",
    "from sklearn.pipeline import make_pipeline, Pipeline\n",
    "from sklearn.impute import SimpleImputer\n",
    "from sklearn.preprocessing import FunctionTransformer\n",
    "from sklearn.calibration import CalibratedClassifierCV\n",
    "\n",
    "sns.set()\n",
    "pd.set_option(\"display.max_columns\", None)"
   ]
  },
  {
   "cell_type": "code",
   "execution_count": null,
   "id": "733f53a3-4eb1-4b22-bd3c-063b07e3fe33",
   "metadata": {},
   "outputs": [],
   "source": [
    "import json\n",
    "import pandas as pd\n",
    "\n",
    "with open('data/offer_features.json', 'r') as file:\n",
    "    parsed_json = json.load(file)\n",
    "\n",
    "df_offer = pd.json_normalize(parsed_json, 'features', ['id'])"
   ]
  },
  {
   "cell_type": "code",
   "execution_count": null,
   "id": "6e9e4dd0-7890-4673-9d8b-f5d527513239",
   "metadata": {},
   "outputs": [],
   "source": [
    "with open('data/context_history.json', 'r') as file:\n",
    "    parsed_json = json.load(file)\n",
    "    \n",
    "df_context = pd.json_normalize(parsed_json)"
   ]
  },
  {
   "cell_type": "code",
   "execution_count": null,
   "id": "14a897ad-632a-4a9b-9071-1b18cfc636c0",
   "metadata": {},
   "outputs": [],
   "source": [
    "abt = pd.merge(df_context, df_offer, left_on='offer_id', right_on='id', how='left')"
   ]
  },
  {
   "cell_type": "code",
   "execution_count": null,
   "id": "2dd1f406-a6a3-4be8-a439-6fbb9fe4c927",
   "metadata": {},
   "outputs": [],
   "source": [
    "target = 'cliked'\n",
    "logs_start = \"\"\n",
    "abt[target].value_counts()/len(abt)"
   ]
  },
  {
   "cell_type": "markdown",
   "id": "15c36fae-a806-482d-827a-175c6849a928",
   "metadata": {},
   "source": [
    "próba zbalansowana"
   ]
  },
  {
   "cell_type": "code",
   "execution_count": null,
   "id": "50af1cb8-3e2c-4e42-acac-31d4f2da6be8",
   "metadata": {},
   "outputs": [],
   "source": [
    "abt.groupby(abt[\"offer_id\"])[target].mean()"
   ]
  },
  {
   "cell_type": "code",
   "execution_count": null,
   "id": "6a5c350e-a526-415e-a05e-041eb7f28988",
   "metadata": {},
   "outputs": [],
   "source": [
    "abt.shape"
   ]
  },
  {
   "cell_type": "code",
   "execution_count": null,
   "id": "11ca9104-9372-47a6-9b96-c3b5664c32f5",
   "metadata": {},
   "outputs": [],
   "source": [
    "zmienne = abt.columns.tolist()\n",
    "zmienne"
   ]
  },
  {
   "cell_type": "code",
   "execution_count": null,
   "id": "ae57073f-246e-4a00-b29e-3a68527f6df2",
   "metadata": {},
   "outputs": [],
   "source": [
    "# zmienne"
   ]
  },
  {
   "cell_type": "code",
   "execution_count": null,
   "id": "99262137-9e9b-4fba-acbc-0fd2750ebe4e",
   "metadata": {},
   "outputs": [],
   "source": [
    "abt['request_dttm'] = pd.to_datetime(abt['request_dttm'], format='%Y-%m-%d %H:%M:%S')\n",
    "data = abt.groupby(abt[\"request_dttm\"].dt.strftime(\"%Y-%m\"))[target].mean()\n",
    "data.plot.bar()"
   ]
  },
  {
   "cell_type": "markdown",
   "id": "f6cbecf1-3ec2-4378-89cb-bc486759f761",
   "metadata": {},
   "source": [
    "Zmienna celu stała w czasie"
   ]
  },
  {
   "cell_type": "code",
   "execution_count": null,
   "id": "002b88a8-d794-404a-9962-ebd90e271b83",
   "metadata": {},
   "outputs": [],
   "source": [
    "['context.booking.param1','context.booking.param2','context.booking.param3','context.booking.param5','context.booking.param6',\n",
    "'context.booking.param7','context.booking.param8','context.leg.param5','context.leg.param7','context.leg.param9']"
   ]
  },
  {
   "cell_type": "code",
   "execution_count": null,
   "id": "bf81a58f-5290-408a-91e7-d17589ec91e8",
   "metadata": {},
   "outputs": [],
   "source": [
    "# zmienna datowa\n",
    "def _add_date_feature(df: pd.DataFrame) -> pd.DataFrame:\n",
    "    \"\"\"cechy dotyczące daty\"\"\"\n",
    "    col ='request_dttm'\n",
    "    df[col] = pd.to_datetime(abt[col], format='%Y-%m-%d %H:%M:%S')\n",
    "    df[\"data_year\"]= df[col].dt.year\n",
    "    df[\"data_month\"]= df[col].dt.month\n",
    "    df[\"data_day\"]= df[col].dt.day\n",
    "    today = pd.to_datetime(datetime.now().strftime('%Y-%m-%d %H:%M:%S'), format='%Y-%m-%d %H:%M:%S')\n",
    "    df['days_from_today'] = (df[col] - today).dt.days\n",
    "    df = df.drop(columns=col)\n",
    "    return df"
   ]
  },
  {
   "cell_type": "code",
   "execution_count": null,
   "id": "fe3d1d98-9668-4202-9d39-7fed3e3ef334",
   "metadata": {},
   "outputs": [],
   "source": [
    "abt = _add_date_feature(abt)"
   ]
  },
  {
   "cell_type": "markdown",
   "id": "ff759b03-036c-4d48-afbe-ed142702a433",
   "metadata": {},
   "source": [
    "Zmienne context.booking.param"
   ]
  },
  {
   "cell_type": "code",
   "execution_count": null,
   "id": "712d2484-9514-4acc-903a-7d3077c07bb2",
   "metadata": {},
   "outputs": [],
   "source": [
    "for i in range(1, 17):\n",
    "    param_name = f\"context.booking.param{i}\"\n",
    "    print(param_name)\n",
    "    print(abt[param_name].describe())\n",
    "    abt[param_name].hist(bins=20)\n",
    "    plt.xlim(0,15)\n",
    "    plt.show()"
   ]
  },
  {
   "cell_type": "code",
   "execution_count": null,
   "id": "0662be23-d623-44df-925b-439affbd6d3d",
   "metadata": {},
   "outputs": [],
   "source": [
    "sns.histplot(abt.query(\"cliked == 0\")['context.booking.param5'].apply(np.log), bins=10, label =\"0\", color = \"cornflowerblue\")\n",
    "sns.histplot(abt.query(\"cliked == 1\")['context.booking.param5'].apply(np.log), bins=10, label =\"1\", color = \"firebrick\")\n",
    "plt.legend();"
   ]
  },
  {
   "cell_type": "code",
   "execution_count": null,
   "id": "124c3d4b-4720-4a15-9ae8-5f275e8c1fc4",
   "metadata": {},
   "outputs": [],
   "source": [
    "sns.boxplot(y=abt['context.booking.param5'].apply(np.log), x=abt[target])"
   ]
  },
  {
   "cell_type": "markdown",
   "id": "bf71540b-1249-4668-8091-e64a31c0a5d2",
   "metadata": {},
   "source": [
    "zmienne 'context.leg.param'"
   ]
  },
  {
   "cell_type": "code",
   "execution_count": null,
   "id": "a26e61d2-200e-4bc1-b37d-4ec48da77840",
   "metadata": {},
   "outputs": [],
   "source": [
    "for i in range(1, 16):\n",
    "    if i == 11:\n",
    "        continue  \n",
    "    param_name = f\"context.leg.param{i}\"\n",
    "    print(param_name)\n",
    "    print(abt[param_name].describe())\n",
    "    abt[param_name].hist(bins=20)\n",
    "    plt.xlim(0,15)\n",
    "    plt.show()"
   ]
  },
  {
   "cell_type": "markdown",
   "id": "c86b966c-ad6b-4945-ad35-3807c652a704",
   "metadata": {},
   "source": [
    "zmienne context.param"
   ]
  },
  {
   "cell_type": "code",
   "execution_count": null,
   "id": "a2431179-8e82-4507-b56a-636aacdba669",
   "metadata": {},
   "outputs": [],
   "source": [
    "for i in range(1, 4):\n",
    "    param_name = f\"context.param{i}\"\n",
    "    print(param_name)\n",
    "    print(abt[param_name].describe())\n",
    "    abt[param_name].hist(bins=20)\n",
    "    plt.xlim(0,15)\n",
    "    plt.show()"
   ]
  },
  {
   "cell_type": "markdown",
   "id": "c1c59667-c6f8-4cd2-9523-86bb7b7fae9a",
   "metadata": {},
   "source": [
    "zmienne kategoryczna"
   ]
  },
  {
   "cell_type": "code",
   "execution_count": null,
   "id": "075a9b40-7c31-4890-ab18-b4cfc656a6d0",
   "metadata": {},
   "outputs": [],
   "source": [
    "def _encode_is_banner(df: pd.DataFrame) -> pd.DataFrame:\n",
    "    col = 'is_banner'\n",
    "    df[f\"{col}_cat\"] = df[col].map({'False': 0, 'True': 1})\n",
    "    df = df.drop(columns=[col])\n",
    "    return df"
   ]
  },
  {
   "cell_type": "code",
   "execution_count": null,
   "id": "55e6f168-3a8e-4b26-9590-7f82cb2d12d9",
   "metadata": {},
   "outputs": [],
   "source": [
    "abt = _encode_is_banner(abt)"
   ]
  },
  {
   "cell_type": "code",
   "execution_count": null,
   "id": "bf78e3e1-7558-4adf-a52d-5b6cd220e9fa",
   "metadata": {},
   "outputs": [],
   "source": [
    "zm_binarne = abt.columns[abt.nunique() < 3]\n",
    "zm_binarne = zm_binarne.tolist()\n",
    "zm_binarne = [item for item in zm_binarne if item not in ['cliked']]\n",
    "zm_binarne"
   ]
  },
  {
   "cell_type": "code",
   "execution_count": null,
   "id": "f97457be-4d57-42ee-8d39-d22aaadd1ccd",
   "metadata": {},
   "outputs": [],
   "source": [
    "for zm in zm_binarne:\n",
    "    print(abt[zm].value_counts())"
   ]
  },
  {
   "cell_type": "code",
   "execution_count": null,
   "id": "eec9d411-0d7e-4c3b-ad9c-10a1ae7b8dbc",
   "metadata": {},
   "outputs": [],
   "source": [
    "to_drop = ['context.param2'] # jeden poziom\n",
    "zm_binarne = [item for item in zm_binarne if item not in to_drop]"
   ]
  },
  {
   "cell_type": "code",
   "execution_count": null,
   "id": "dc21213c-936e-4247-a28f-d466e854d09d",
   "metadata": {},
   "outputs": [],
   "source": [
    "# puste wartości\n",
    "abt[zm_binarne].isna().mean().sort_values()"
   ]
  },
  {
   "cell_type": "code",
   "execution_count": null,
   "id": "52d76e56-1c3b-4be5-a342-ccf4dbdfab92",
   "metadata": {},
   "outputs": [],
   "source": [
    "fig, axes = plt.subplots(nrows=len(zm_binarne), ncols=1, figsize=(8, 4 * len(zm_binarne)))\n",
    "\n",
    "for i, col in enumerate(zm_binarne):\n",
    "    abt.groupby(col)[target].mean().plot.bar(ax=axes[i])\n",
    "    axes[i].set_title(f'Mean {target} by {col}')\n",
    "    axes[i].set_ylabel(f'Mean {target}')\n",
    "\n",
    "plt.tight_layout()\n",
    "plt.show()"
   ]
  },
  {
   "cell_type": "code",
   "execution_count": null,
   "id": "9dc73514-2ee9-4829-bb85-904c2c48be80",
   "metadata": {},
   "outputs": [],
   "source": [
    "# czy istnieje statystycznie istotna zależność?\n",
    "from scipy.stats import chi2_contingency\n",
    "\n",
    "def cramers_v(x,y):\n",
    "    contingency_table = pd.crosstab(x,y)\n",
    "    chi2, p, _, _ = chi2_contingency(contingency_table)\n",
    "    n = contingency_table.sum().sum()\n",
    "    rows, cols = contingency_table.shape\n",
    "    v = np.sqrt(chi2 / (n*(min(rows, cols)-1)))\n",
    "    return np.round(v,4)"
   ]
  },
  {
   "cell_type": "code",
   "execution_count": null,
   "id": "0967b208-af13-4860-97cd-5ee9bffc5354",
   "metadata": {},
   "outputs": [],
   "source": [
    "for col in zm_binarne:\n",
    "    print(col, cramers_v(abt[col], abt[target]))"
   ]
  },
  {
   "cell_type": "code",
   "execution_count": null,
   "id": "783211e9-776a-4940-88c1-b69d4f528297",
   "metadata": {},
   "outputs": [],
   "source": [
    "# odrzucamy hipotezę o niezależności między zmiennymi a targetem dla każdej zmiennej"
   ]
  },
  {
   "cell_type": "code",
   "execution_count": null,
   "id": "d3b9f264-f7e4-48bc-bc3e-efb3d8a5467f",
   "metadata": {},
   "outputs": [],
   "source": []
  }
 ],
 "metadata": {
  "kernelspec": {
   "display_name": "anaconda-panel-2023.05-py310",
   "language": "python",
   "name": "conda-env-anaconda-panel-2023.05-py310-py"
  },
  "language_info": {
   "codemirror_mode": {
    "name": "ipython",
    "version": 3
   },
   "file_extension": ".py",
   "mimetype": "text/x-python",
   "name": "python",
   "nbconvert_exporter": "python",
   "pygments_lexer": "ipython3",
   "version": "3.11.5"
  }
 },
 "nbformat": 4,
 "nbformat_minor": 5
}
